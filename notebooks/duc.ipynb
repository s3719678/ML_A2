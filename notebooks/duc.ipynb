{
 "cells": [
  {
   "cell_type": "code",
   "execution_count": 6,
   "id": "76caf43b",
   "metadata": {},
   "outputs": [],
   "source": [
    "# Define a generic queue class so you can use it given any arrival time/mean delay requirement\n",
    "# maybe make it work for other queue types e.g. fifo? maybe easier to just make fifoSimulator\n",
    "\n",
    "class QueueSimulator():\n",
    "    def __init__(self, arrival_rates, mean_delay_requirements):\n",
    "        super(QueueSimulator, self).__init__()\n",
    "        self.arrival_rates = arrival_rates\n",
    "        self.mean_delay_requirements = mean_delay_requirements\n",
    "        self.current_timeslot = 0\n",
    "        self.queues = [[], [], []] # Basic case of PQ1, PQ2 and Best-Effort\n",
    "        "
   ]
  },
  {
   "cell_type": "code",
   "execution_count": null,
   "id": "79f3f742",
   "metadata": {},
   "outputs": [],
   "source": [
    "# Create the basic env and put logic for the actions\n",
    "MAX_TIMESLOTS = 100\n",
    "arrival_rates = [0.3, 0.25, 0.4]\n",
    "mean_delay_requirements = [6, 4, float('inf')]\n",
    "# Keep track of current packets by using another array, which has index corresponding to the arrival_rates\n",
    "queues_packet_status = [[0], [0], [0]]\n",
    "# Keep track of how long each queue has had to wait overall\n",
    "queues_wait_times = [[0], [0], [0]]\n",
    "\n",
    "# At each time interval, increment each queue's current packet status by the arrival rate amount\n",
    "# if packet status >= 1, get the extra amt above 1 and change packet status to just that\n",
    "for timeslot in range(MAX_TIMESLOTS):\n",
    "    for current_queue in range (len(arrival_rates)):\n",
    "        queues_packet_status[current_queue] += arrival_rates[current_queue]\n",
    "        \n",
    "        if queues_packet_status[current_queue] >= 1:\n",
    "            "
   ]
  }
 ],
 "metadata": {
  "kernelspec": {
   "display_name": "conda_python3",
   "language": "python",
   "name": "conda_python3"
  },
  "language_info": {
   "codemirror_mode": {
    "name": "ipython",
    "version": 3
   },
   "file_extension": ".py",
   "mimetype": "text/x-python",
   "name": "python",
   "nbconvert_exporter": "python",
   "pygments_lexer": "ipython3",
   "version": "3.6.13"
  }
 },
 "nbformat": 4,
 "nbformat_minor": 5
}
