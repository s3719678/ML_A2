{
 "cells": [
  {
   "cell_type": "code",
   "execution_count": 1,
   "id": "4caa6c59",
   "metadata": {},
   "outputs": [],
   "source": [
    "# Define a generic queue class so you can use it given any arrival time/mean delay requirement\n",
    "# maybe make it work for other queue types e.g. fifo? maybe easier to just make fifoSimulator\n",
    "\n",
    "class QueueSimulator():\n",
    "    def __init__(self, arrival_rates, mean_delay_requirements):\n",
    "        super(QueueSimulator, self).__init__()\n",
    "        self.arrival_rates = arrival_rates\n",
    "        self.mean_delay_requirements = mean_delay_requirements\n",
    "        self.current_timeslot = 0\n",
    "        self.queues = [[], [], []] # Basic case of PQ1, PQ2 and Best-Effort\n",
    "        "
   ]
  },
  {
   "cell_type": "code",
   "execution_count": 7,
   "id": "d6d74753",
   "metadata": {},
   "outputs": [
    {
     "name": "stdout",
     "output_type": "stream",
     "text": [
      "[3, 6, 10, 13, 16, 20, 23, 26, 30, 33, 36, 40, 43, 46, 50, 53, 56, 60, 63, 66, 70, 73, 76, 80, 83, 86, 90, 93, 96]\n",
      "[3, 7, 11, 15, 19, 23, 27, 31, 35, 39, 43, 47, 51, 55, 59, 63, 67, 71, 75, 79, 83, 87, 91, 95, 99]\n",
      "[2, 4, 7, 9, 12, 14, 17, 19, 22, 24, 27, 29, 32, 34, 37, 39, 42, 44, 47, 49, 52, 54, 57, 59, 62, 64, 67, 69, 72, 74, 77, 79, 82, 84, 87, 89, 92, 94, 97, 99]\n"
     ]
    }
   ],
   "source": [
    "# Create the basic env and put logic for the actions\n",
    "MAX_TIMESLOTS = 100\n",
    "arrival_rates = [0.3, 0.25, 0.4]\n",
    "mean_delay_requirements = [6, 4, float('inf')]\n",
    "# Keep track of current packets by using another array, which has index corresponding to the arrival_rates\n",
    "queues_packet_status = [0, 0, 0]\n",
    "# See all timeslots where a queue finished transmitting a packet\n",
    "queues_finished_timeslots = [[], [], []]\n",
    "\n",
    "# At each time interval, increment each queue's current packet status by the arrival rate amount\n",
    "# if packet status >= 1, get the extra amt above 1 and change packet status to just that\n",
    "for timeslot in range(MAX_TIMESLOTS):\n",
    "    for current_queue in range (len(arrival_rates)):\n",
    "        queues_packet_status[current_queue] += arrival_rates[current_queue]\n",
    "        \n",
    "        if queues_packet_status[current_queue] >= 1.0:\n",
    "            queues_finished_timeslots[current_queue].append(timeslot)\n",
    "            queues_packet_status[current_queue] -= 1.0\n",
    "\n",
    "# Result of queues_finished_timeslots\n",
    "print(queues_finished_timeslots[0])\n",
    "print(queues_finished_timeslots[1])\n",
    "print(queues_finished_timeslots[2])\n",
    "            "
   ]
  },
  {
   "cell_type": "code",
   "execution_count": null,
   "id": "d7343bba",
   "metadata": {},
   "outputs": [],
   "source": []
  }
 ],
 "metadata": {
  "kernelspec": {
   "display_name": "conda_python3",
   "language": "python",
   "name": "conda_python3"
  },
  "language_info": {
   "codemirror_mode": {
    "name": "ipython",
    "version": 3
   },
   "file_extension": ".py",
   "mimetype": "text/x-python",
   "name": "python",
   "nbconvert_exporter": "python",
   "pygments_lexer": "ipython3",
   "version": "3.6.13"
  }
 },
 "nbformat": 4,
 "nbformat_minor": 5
}
